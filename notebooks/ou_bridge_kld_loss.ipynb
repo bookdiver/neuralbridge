{
 "cells": [
  {
   "cell_type": "code",
   "execution_count": 1,
   "metadata": {},
   "outputs": [],
   "source": [
    "%load_ext autoreload\n",
    "%autoreload 2"
   ]
  },
  {
   "cell_type": "code",
   "execution_count": 2,
   "metadata": {},
   "outputs": [],
   "source": [
    "import jax\n",
    "import jax.numpy as jnp\n",
    "import matplotlib.pyplot as plt\n",
    "plt.style.use(\"ggplot\")\n",
    "from tqdm import tqdm\n",
    "\n",
    "from mixedbridge.stochastic_processes.examples import OUProcess, OUAuxProcess, OUBridgeProcess\n",
    "from mixedbridge.stochastic_processes.gbp import GuidedBridgeProcess, NeuralGuidedBridgeProcess\n",
    "from mixedbridge.solvers.sde import Euler\n",
    "from mixedbridge.utils.plotting import plot_sample_path"
   ]
  },
  {
   "cell_type": "markdown",
   "metadata": {},
   "source": [
    "# Guiding OU bridge with a Brownian process\n",
    "We then use a standard Brownian motion as the auxiliary process to approach the Ornstein–Uhlenbeck bridge, specifically:\n",
    "$$\n",
    "\\mathrm{d}X_t = -\\gamma \\cdot X_t \\mathrm{d}W_t + \\sigma \\mathrm{d}W_t \\\\\n",
    "\\mathrm{d}X^{\\star}_t = \\left\\{-\\gamma\\cdot X^{\\star}_t + 4\\gamma^2 e^{-\\gamma(T-t)}\\cdot\\frac{X^{\\star}_t\\cdot e^{-\\gamma(T-t)}-v}{e^{-2\\gamma(T-t)} - 1}\\right\\}\\mathrm{d}t + \\sigma\\mathrm{d}W_t\n",
    "$$\n",
    "Then we choose a Brownian motion with constant drift as the auxiliary process:\n",
    "$$\n",
    "\\mathrm{d} \n",
    "$$"
   ]
  }
 ],
 "metadata": {
  "kernelspec": {
   "display_name": "mixedbridge",
   "language": "python",
   "name": "python3"
  },
  "language_info": {
   "codemirror_mode": {
    "name": "ipython",
    "version": 3
   },
   "file_extension": ".py",
   "mimetype": "text/x-python",
   "name": "python",
   "nbconvert_exporter": "python",
   "pygments_lexer": "ipython3",
   "version": "3.11.4"
  }
 },
 "nbformat": 4,
 "nbformat_minor": 2
}
