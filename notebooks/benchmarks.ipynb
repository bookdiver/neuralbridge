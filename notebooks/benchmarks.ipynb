{
 "cells": [
  {
   "cell_type": "code",
   "execution_count": 1,
   "metadata": {},
   "outputs": [],
   "source": [
    "%load_ext autoreload\n",
    "%autoreload 2"
   ]
  },
  {
   "cell_type": "code",
   "execution_count": 16,
   "metadata": {},
   "outputs": [],
   "source": [
    "import sys\n",
    "sys.path.append(\"..\")\n",
    "\n",
    "import jax\n",
    "import jax.numpy as jnp\n",
    "import matplotlib.pyplot as plt\n",
    "from omegaconf import OmegaConf\n",
    "\n",
    "from neuralbridge.run_scripts.read_config import read_config\n",
    "from neuralbridge.configs.neural_bridge_config import get_neural_bridge_landmark_config\n",
    "from neuralbridge.stochastic_processes.examples import SDEFactory\n",
    "from neuralbridge.solvers.sde import WienerProcess, Euler\n",
    "from neuralbridge.models import neurb, pCN\n",
    "from neuralbridge.utils.sample_path import SamplePath\n",
    "from neuralbridge.utils.plotting import plot_landmark_sample_path\n",
    "from neuralbridge.utils.t_grid import TimeGrid"
   ]
  },
  {
   "cell_type": "code",
   "execution_count": 3,
   "metadata": {},
   "outputs": [],
   "source": [
    "X_brownian_unc = SDEFactory(\n",
    "    config=OmegaConf.create({\n",
    "        \"sde\": {\n",
    "            \"name\": \"landmark\",\n",
    "            \"n_landmarks\": 50,\n",
    "            \"X_dim\": 50 * 2,\n",
    "            \"W_dim\": 50 * 2,\n",
    "            \"T\": 1.0,\n",
    "            \"dt\": 0.01,\n",
    "            \"t_scheme\": \"linear\",\n",
    "            \"params_X_unc\": {\n",
    "                \"k_alpha\": 0.3,\n",
    "                \"k_sigma\": 0.2,\n",
    "                \"n_landmarks\": 50,\n",
    "                \"m_landmarks\": 2\n",
    "            }\n",
    "        }\n",
    "    })\n",
    ").get_original_sde()\n",
    "\n",
    "X_lagrangian_unc = SDEFactory(\n",
    "    config=OmegaConf.create({\n",
    "        \"sde\": {\n",
    "            \"name\": \"landmark\",\n",
    "            \"n_landmarks\": 50,\n",
    "            \"X_dim\": 50 * 2,\n",
    "            \"W_dim\": 50 * 2,\n",
    "            \"T\": 1.0,\n",
    "            \"dt\": 0.01,\n",
    "            \"t_scheme\": \"linear\",\n",
    "            \"params_X_unc\": {\n",
    "                \"k_alpha\": 0.3,\n",
    "                \"k_sigma\": 0.2,\n",
    "                \"n_landmarks\": 50,\n",
    "                \"m_landmarks\": 2\n",
    "            }\n",
    "        }\n",
    "    })\n",
    ").get_original_sde()"
   ]
  },
  {
   "cell_type": "code",
   "execution_count": 18,
   "metadata": {},
   "outputs": [
    {
     "name": "stdout",
     "output_type": "stream",
     "text": [
      "{'sde': {'name': 'landmark', 'n_landmarks': 50, 'T': 1.0, 'dt': 0.01, 'X_dim': 100, 'W_dim': 100, 't_scheme': 'linear', 'params_X_unc': {'k_alpha': 0.3, 'k_sigma': 0.5, 'n_landmarks': 50, 'm_landmarks': 2}, 'params_X_aux': {'k_alpha': 0.3, 'k_sigma': 0.5, 'n_landmarks': 50, 'm_landmarks': 2}, 'u': Array([ 0.00000000e+00,  5.00000000e-01,  1.25333234e-01,  4.96057351e-01,\n",
      "        2.48689887e-01,  4.84291581e-01,  3.68124553e-01,  4.64888243e-01,\n",
      "        4.81753674e-01,  4.38153340e-01,  5.87785252e-01,  4.04508497e-01,\n",
      "        6.84547106e-01,  3.64484314e-01,  7.70513243e-01,  3.18711995e-01,\n",
      "        8.44327926e-01,  2.67913397e-01,  9.04827052e-01,  2.12889646e-01,\n",
      "        9.51056516e-01,  1.54508497e-01,  9.82287251e-01,  9.36906573e-02,\n",
      "        9.98026728e-01,  3.13952598e-02,  9.98026728e-01, -3.13952598e-02,\n",
      "        9.82287251e-01, -9.36906573e-02,  9.51056516e-01, -1.54508497e-01,\n",
      "        9.04827052e-01, -2.12889646e-01,  8.44327926e-01, -2.67913397e-01,\n",
      "        7.70513243e-01, -3.18711995e-01,  6.84547106e-01, -3.64484314e-01,\n",
      "        5.87785252e-01, -4.04508497e-01,  4.81753674e-01, -4.38153340e-01,\n",
      "        3.68124553e-01, -4.64888243e-01,  2.48689887e-01, -4.84291581e-01,\n",
      "        1.25333234e-01, -4.96057351e-01, -3.21624530e-16, -5.00000000e-01,\n",
      "       -1.25333234e-01, -4.96057351e-01, -2.48689887e-01, -4.84291581e-01,\n",
      "       -3.68124553e-01, -4.64888243e-01, -4.81753674e-01, -4.38153340e-01,\n",
      "       -5.87785252e-01, -4.04508497e-01, -6.84547106e-01, -3.64484314e-01,\n",
      "       -7.70513243e-01, -3.18711995e-01, -8.44327926e-01, -2.67913397e-01,\n",
      "       -9.04827052e-01, -2.12889646e-01, -9.51056516e-01, -1.54508497e-01,\n",
      "       -9.82287251e-01, -9.36906573e-02, -9.98026728e-01, -3.13952598e-02,\n",
      "       -9.98026728e-01,  3.13952598e-02, -9.82287251e-01,  9.36906573e-02,\n",
      "       -9.51056516e-01,  1.54508497e-01, -9.04827052e-01,  2.12889646e-01,\n",
      "       -8.44327926e-01,  2.67913397e-01, -7.70513243e-01,  3.18711995e-01,\n",
      "       -6.84547106e-01,  3.64484314e-01, -5.87785252e-01,  4.04508497e-01,\n",
      "       -4.81753674e-01,  4.38153340e-01, -3.68124553e-01,  4.64888243e-01,\n",
      "       -2.48689887e-01,  4.84291581e-01, -1.25333234e-01,  4.96057351e-01],      dtype=float64), 'v': Array([-1.4330127 ,  0.75      , -1.36693165,  0.85657044, -1.29506387,\n",
      "        0.95751755, -1.21854275,  1.05124934, -1.13857509,  1.13628759,\n",
      "       -1.05642201,  1.21129121, -0.97337912,  1.27507734, -0.89075606,\n",
      "        1.32664004, -0.80985585,  1.36516613, -0.73195432,  1.39004804,\n",
      "       -0.65828003,  1.40089335, -0.58999486,  1.39753104, -0.52817573,\n",
      "        1.38001413, -0.47379754,  1.34861887, -0.42771789,  1.30384038,\n",
      "       -0.39066346,  1.24638485, -0.36321863,  1.17715839, -0.34581623,\n",
      "        1.09725273, -0.33873069,  1.00792804, -0.34207377,  0.91059303,\n",
      "       -0.35579274,  0.80678271, -0.37967124,  0.69813425, -0.4133327 ,\n",
      "        0.58636109, -0.45624624,  0.47322597, -0.50773512,  0.36051309,\n",
      "       -0.5669873 ,  0.25      , -0.63306835,  0.14342956, -0.70493613,\n",
      "        0.04248245, -0.78145725, -0.05124934, -0.86142491, -0.13628759,\n",
      "       -0.94357799, -0.21129121, -1.02662088, -0.27507734, -1.10924394,\n",
      "       -0.32664004, -1.19014415, -0.36516613, -1.26804568, -0.39004804,\n",
      "       -1.34171997, -0.40089335, -1.41000514, -0.39753104, -1.47182427,\n",
      "       -0.38001413, -1.52620246, -0.34861887, -1.57228211, -0.30384038,\n",
      "       -1.60933654, -0.24638485, -1.63678137, -0.17715839, -1.65418377,\n",
      "       -0.09725273, -1.66126931, -0.00792804, -1.65792623,  0.08940697,\n",
      "       -1.64420726,  0.19321729, -1.62032876,  0.30186575, -1.5866673 ,\n",
      "        0.41363891, -1.54375376,  0.52677403, -1.49226488,  0.63948691],      dtype=float64), 'eps': 0.002}, 'network': {'mlp_type': 'mlp_large', 'out_dim': 100, 'encoder_dims': (128,), 'decoder_dims': (256, 256, 128), 't_emb_dim': 32, 't_emb_max_period': 100.0, 't_emb_scaling': 100.0, 'activation': 'tanh', 'normalization_type': None, 'dropout_rate': 0.0}, 'training': {'save_name': 'landmark_benchmark', 'learning_rate': 0.0007, 'batch_size': 8, 'n_iters_per_epoch': 1500, 'n_epochs': 1, 'ema_decay': 0.995, 'optimizer': 'adam', 'warmup_steps_ratio': 0.1, 'clip_norm': 1.0}}\n"
     ]
    }
   ],
   "source": [
    "config = get_neural_bridge_landmark_config()\n",
    "print(config)"
   ]
  },
  {
   "cell_type": "code",
   "execution_count": 19,
   "metadata": {},
   "outputs": [],
   "source": [
    "X_brownian_unc.initialize_g(u)"
   ]
  },
  {
   "cell_type": "code",
   "execution_count": 20,
   "metadata": {},
   "outputs": [
    {
     "name": "stderr",
     "output_type": "stream",
     "text": [
      "/opt/homebrew/Caskroom/miniconda/base/envs/neuralbridge/lib/python3.11/site-packages/jax/_src/ops/scatter.py:93: FutureWarning: scatter inputs have incompatible types: cannot safely cast value from dtype=float64 to dtype=float32 with jax_numpy_dtype_promotion='standard'. In future JAX releases this will result in an error.\n",
      "  warnings.warn(\n",
      "/opt/homebrew/Caskroom/miniconda/base/envs/neuralbridge/lib/python3.11/site-packages/orbax/checkpoint/_src/serialization/type_handlers.py:1136: UserWarning: Couldn't find sharding info under RestoreArgs. Populating sharding info from sharding file. Please note restoration time will be slightly increased due to reading from file instead of directly from RestoreArgs. Note also that this option is unsafe when restoring on a different topology than the checkpoint was saved with.\n",
      "  warnings.warn(\n",
      "INFO:root:Checkpoint loaded from /Users/vbd402/Documents/Projects/neuralbridge/assets/ckpts/neurb/landmark_benchmark\n"
     ]
    },
    {
     "name": "stdout",
     "output_type": "stream",
     "text": [
      "Loading pretrained model from the last epoch\n"
     ]
    }
   ],
   "source": [
    "neural_bridge_model = neurb.NeuralBridge(config)\n",
    "_ = neural_bridge_model.train(mode=\"pretrained\", load_relative_dir=\"../assets/ckpts/neurb\")\n",
    "X_neu = neural_bridge_model.build_neural_bridge()"
   ]
  },
  {
   "cell_type": "code",
   "execution_count": 21,
   "metadata": {},
   "outputs": [],
   "source": [
    "X_gui = neural_bridge_model.X_gui"
   ]
  },
  {
   "cell_type": "code",
   "execution_count": 22,
   "metadata": {},
   "outputs": [],
   "source": [
    "tGrid = TimeGrid(\n",
    "    T=config[\"sde\"][\"T\"],\n",
    "    dt=config[\"sde\"][\"dt\"],\n",
    "    t_scheme=config[\"sde\"][\"t_scheme\"]\n",
    ")\n",
    "W = WienerProcess(\n",
    "    config[\"sde\"][\"W_dim\"]\n",
    ")"
   ]
  },
  {
   "cell_type": "code",
   "execution_count": 24,
   "metadata": {},
   "outputs": [
    {
     "name": "stdout",
     "output_type": "stream",
     "text": [
      "9.81 ms ± 14.4 μs per loop (mean ± std. dev. of 7 runs, 100 loops each)\n"
     ]
    }
   ],
   "source": [
    "X_neu_solver = Euler(X_neu, W, tGrid)\n",
    "X_neu_path = X_neu_solver.solve(x0=config[\"sde\"][\"u\"], batch_size=1)\n",
    "%timeit X_neu_path = X_neu_solver.solve(x0=config[\"sde\"][\"u\"], batch_size=1)"
   ]
  },
  {
   "cell_type": "code",
   "execution_count": 25,
   "metadata": {},
   "outputs": [
    {
     "name": "stdout",
     "output_type": "stream",
     "text": [
      "6.85 ms ± 135 μs per loop (mean ± std. dev. of 7 runs, 100 loops each)\n"
     ]
    }
   ],
   "source": [
    "X_gui_solver = Euler(X_gui, W, tGrid)\n",
    "X_gui_path = X_gui_solver.solve(x0=config[\"sde\"][\"u\"], batch_size=1)\n",
    "%timeit X_gui_path = X_gui_solver.solve(x0=config[\"sde\"][\"u\"], batch_size=1)"
   ]
  }
 ],
 "metadata": {
  "kernelspec": {
   "display_name": "neuralbridge",
   "language": "python",
   "name": "python3"
  },
  "language_info": {
   "codemirror_mode": {
    "name": "ipython",
    "version": 3
   },
   "file_extension": ".py",
   "mimetype": "text/x-python",
   "name": "python",
   "nbconvert_exporter": "python",
   "pygments_lexer": "ipython3",
   "version": "3.11.4"
  }
 },
 "nbformat": 4,
 "nbformat_minor": 2
}
